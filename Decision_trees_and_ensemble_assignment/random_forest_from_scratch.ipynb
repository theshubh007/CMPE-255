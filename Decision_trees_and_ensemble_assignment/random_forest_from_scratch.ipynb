{
  "nbformat": 4,
  "nbformat_minor": 0,
  "metadata": {
    "colab": {
      "provenance": []
    },
    "kernelspec": {
      "name": "python3",
      "display_name": "Python 3"
    },
    "language_info": {
      "name": "python"
    }
  },
  "cells": [
    {
      "cell_type": "markdown",
      "source": [
        "## Using the Wine Dataset\n",
        "\n",
        "The Wine dataset contains 13 features and three classes"
      ],
      "metadata": {
        "id": "0ZUlgfQUm5Ca"
      }
    },
    {
      "cell_type": "code",
      "execution_count": null,
      "metadata": {
        "id": "b9SKfhnumjoq"
      },
      "outputs": [],
      "source": [
        "# Import libraries\n",
        "from sklearn.datasets import load_wine\n",
        "from sklearn.model_selection import train_test_split\n",
        "from sklearn.metrics import accuracy_score\n",
        "from collections import Counter\n",
        "import numpy as np"
      ]
    },
    {
      "cell_type": "markdown",
      "source": [
        "## Train-Test Split\n",
        "\n",
        "We'll split the dataset into training and testing sets for evaluation."
      ],
      "metadata": {
        "id": "_ANZEDgZnBUN"
      }
    },
    {
      "cell_type": "code",
      "source": [
        "# Load the Wine dataset\n",
        "wine = load_wine()\n",
        "X = wine.data\n",
        "y = wine.target\n",
        "\n",
        "# Split into train and test sets\n",
        "X_train, X_test, y_train, y_test = train_test_split(X, y, test_size=0.2, random_state=42)"
      ],
      "metadata": {
        "id": "nJxuDImIm-pP"
      },
      "execution_count": null,
      "outputs": []
    },
    {
      "cell_type": "markdown",
      "source": [
        "## Implement and Train Random Forest"
      ],
      "metadata": {
        "id": "5oAlew2qnJRk"
      }
    },
    {
      "cell_type": "code",
      "source": [
        "# Decision Tree Implementation (as base learners for Random Forest)\n",
        "class DecisionTree:\n",
        "    def __init__(self, max_depth=None):\n",
        "        self.max_depth = max_depth\n",
        "        self.tree = None\n",
        "\n",
        "    def fit(self, X, y, depth=0):\n",
        "        n_samples, n_features = X.shape\n",
        "        if len(set(y)) == 1 or depth == self.max_depth:\n",
        "            self.tree = Counter(y).most_common(1)[0][0]\n",
        "            return\n",
        "\n",
        "        best_feature, best_threshold = self._best_split(X, y)\n",
        "        if best_feature is None:\n",
        "            self.tree = Counter(y).most_common(1)[0][0]\n",
        "            return\n",
        "\n",
        "        left_indices = X[:, best_feature] <= best_threshold\n",
        "        right_indices = X[:, best_feature] > best_threshold\n",
        "\n",
        "        self.tree = {\n",
        "            'feature': best_feature,\n",
        "            'threshold': best_threshold,\n",
        "            'left': DecisionTree(max_depth=self.max_depth),\n",
        "            'right': DecisionTree(max_depth=self.max_depth)\n",
        "        }\n",
        "\n",
        "        self.tree['left'].fit(X[left_indices], y[left_indices], depth + 1)\n",
        "        self.tree['right'].fit(X[right_indices], y[right_indices], depth + 1)\n",
        "\n",
        "    def predict(self, X):\n",
        "        if isinstance(self.tree, dict):\n",
        "            feature = self.tree['feature']\n",
        "            threshold = self.tree['threshold']\n",
        "            if X[feature] <= threshold:\n",
        "                return self.tree['left'].predict(X)\n",
        "            else:\n",
        "                return self.tree['right'].predict(X)\n",
        "        else:\n",
        "            return self.tree\n",
        "\n",
        "    def _best_split(self, X, y):\n",
        "        n_samples, n_features = X.shape\n",
        "        best_gain = -1\n",
        "        best_feature = None\n",
        "        best_threshold = None\n",
        "\n",
        "        for feature in range(n_features):\n",
        "            thresholds = np.unique(X[:, feature])\n",
        "            for threshold in thresholds:\n",
        "                left_indices = X[:, feature] <= threshold\n",
        "                right_indices = X[:, feature] > threshold\n",
        "                if sum(left_indices) == 0 or sum(right_indices) == 0:\n",
        "                    continue\n",
        "\n",
        "                gain = self._information_gain(y, left_indices, right_indices)\n",
        "                if gain > best_gain:\n",
        "                    best_gain = gain\n",
        "                    best_feature = feature\n",
        "                    best_threshold = threshold\n",
        "\n",
        "        return best_feature, best_threshold\n",
        "\n",
        "    def _information_gain(self, y, left_indices, right_indices):\n",
        "        def gini_impurity(y_subset):\n",
        "            if len(y_subset) == 0:\n",
        "                return 0\n",
        "            counts = Counter(y_subset)\n",
        "            probabilities = [count / len(y_subset) for count in counts.values()]\n",
        "            return 1 - sum(p ** 2 for p in probabilities)\n",
        "\n",
        "        left_impurity = gini_impurity(y[left_indices])\n",
        "        right_impurity = gini_impurity(y[right_indices])\n",
        "        n = len(y)\n",
        "        n_left = sum(left_indices)\n",
        "        n_right = sum(right_indices)\n",
        "\n",
        "        return gini_impurity(y) - (n_left / n) * left_impurity - (n_right / n) * right_impurity"
      ],
      "metadata": {
        "id": "IY5IC4j1noVK"
      },
      "execution_count": null,
      "outputs": []
    },
    {
      "cell_type": "code",
      "source": [
        "# Define the Random Forest class\n",
        "class RandomForest:\n",
        "    def __init__(self, n_estimators=10, max_depth=None, max_features=None):\n",
        "        self.n_estimators = n_estimators\n",
        "        self.max_depth = max_depth\n",
        "        self.max_features = max_features\n",
        "        self.trees = []\n",
        "\n",
        "    def fit(self, X, y):\n",
        "        self.trees = []\n",
        "        n_samples, n_features = X.shape\n",
        "        self.max_features = self.max_features or int(np.sqrt(n_features))\n",
        "\n",
        "        for _ in range(self.n_estimators):\n",
        "            bootstrap_indices = np.random.choice(n_samples, n_samples, replace=True)\n",
        "            X_bootstrap = X[bootstrap_indices]\n",
        "            y_bootstrap = y[bootstrap_indices]\n",
        "\n",
        "            tree = DecisionTree(max_depth=self.max_depth)\n",
        "            tree.fit(X_bootstrap[:, np.random.choice(n_features, self.max_features, replace=False)], y_bootstrap)\n",
        "            self.trees.append(tree)\n",
        "\n",
        "    def predict(self, X):\n",
        "        predictions = np.array([[tree.predict(row) for tree in self.trees] for row in X])\n",
        "        return np.array([Counter(row).most_common(1)[0][0] for row in predictions])"
      ],
      "metadata": {
        "id": "PI9PJjeMnFiT"
      },
      "execution_count": null,
      "outputs": []
    },
    {
      "cell_type": "code",
      "source": [
        "# Train and evaluate the Random Forest\n",
        "rf = RandomForest(n_estimators=20, max_depth=5)\n",
        "rf.fit(X_train, y_train)\n",
        "\n",
        "# Predict and evaluate\n",
        "y_pred = rf.predict(X_test)\n",
        "accuracy = accuracy_score(y_test, y_pred)\n",
        "\n",
        "print(f\"Random Forest Accuracy on Wine Dataset: {accuracy:.2f}\")"
      ],
      "metadata": {
        "colab": {
          "base_uri": "https://localhost:8080/"
        },
        "id": "r0bhUW6YnwH3",
        "outputId": "047f04b7-4562-484b-f8e6-4e26aca98465"
      },
      "execution_count": null,
      "outputs": [
        {
          "output_type": "stream",
          "name": "stdout",
          "text": [
            "Random Forest Accuracy on Wine Dataset: 0.39\n"
          ]
        }
      ]
    }
  ]
}
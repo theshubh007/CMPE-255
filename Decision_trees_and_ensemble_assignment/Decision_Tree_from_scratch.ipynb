{
  "nbformat": 4,
  "nbformat_minor": 0,
  "metadata": {
    "colab": {
      "provenance": []
    },
    "kernelspec": {
      "name": "python3",
      "display_name": "Python 3"
    },
    "language_info": {
      "name": "python"
    }
  },
  "cells": [
    {
      "cell_type": "markdown",
      "source": [
        "## Loading Irish dataset"
      ],
      "metadata": {
        "id": "F1TYrl6hFUky"
      }
    },
    {
      "cell_type": "code",
      "execution_count": null,
      "metadata": {
        "id": "fZlP_UiDsFWg"
      },
      "outputs": [],
      "source": [
        "import numpy as np\n",
        "import pandas as pd\n",
        "from sklearn.model_selection import train_test_split\n",
        "from sklearn.datasets import load_iris\n",
        "from collections import Counter"
      ]
    },
    {
      "cell_type": "code",
      "source": [
        "# Load the Iris dataset\n",
        "iris = load_iris()\n",
        "X = iris.data\n",
        "y = iris.target\n",
        "\n"
      ],
      "metadata": {
        "id": "vcJfm4cosKBj"
      },
      "execution_count": null,
      "outputs": []
    },
    {
      "cell_type": "code",
      "source": [
        "# Split dataset into train and test sets\n",
        "X_train, X_test, y_train, y_test = train_test_split(X, y, test_size=0.3, random_state=42)"
      ],
      "metadata": {
        "id": "GxPT1W3nsXOj"
      },
      "execution_count": null,
      "outputs": []
    },
    {
      "cell_type": "code",
      "source": [
        "# Gini Impurity function\n",
        "def gini_impurity(y):\n",
        "    class_counts = Counter(y)\n",
        "    impurity = 1\n",
        "    total_count = len(y)\n",
        "    for count in class_counts.values():\n",
        "        prob = count / total_count\n",
        "        impurity -= prob ** 2\n",
        "    return impurity"
      ],
      "metadata": {
        "id": "5H0RokMPs0a6"
      },
      "execution_count": null,
      "outputs": []
    },
    {
      "cell_type": "code",
      "source": [
        "# Information Gain function (uses Gini Impurity)\n",
        "def information_gain(y, y_left, y_right):\n",
        "    # Calculate the impurity for the left and right splits\n",
        "    p_left = len(y_left) / len(y)\n",
        "    p_right = len(y_right) / len(y)\n",
        "    return gini_impurity(y) - p_left * gini_impurity(y_left) - p_right * gini_impurity(y_right)"
      ],
      "metadata": {
        "id": "J2_ELY--s2CR"
      },
      "execution_count": null,
      "outputs": []
    },
    {
      "cell_type": "markdown",
      "source": [
        "## Creting Decision Tree Node Class"
      ],
      "metadata": {
        "id": "s4tB_HEaFa9y"
      }
    },
    {
      "cell_type": "code",
      "source": [
        "\n",
        "class DecisionTreeNode:\n",
        "    def __init__(self, gini=None, num_samples=None, num_samples_per_class=None, predicted_class=None, feature_index=None, threshold=None):\n",
        "        self.gini = gini\n",
        "        self.num_samples = num_samples\n",
        "        self.num_samples_per_class = num_samples_per_class\n",
        "        self.predicted_class = predicted_class\n",
        "        self.feature_index = feature_index\n",
        "        self.threshold = threshold\n",
        "        self.left = None\n",
        "        self.right = None"
      ],
      "metadata": {
        "id": "PaU_2plDs7Mq"
      },
      "execution_count": null,
      "outputs": []
    },
    {
      "cell_type": "markdown",
      "source": [
        "## Creating DecisionTreeClassifier class to include all operations"
      ],
      "metadata": {
        "id": "InDTGMt9Ffq5"
      }
    },
    {
      "cell_type": "code",
      "source": [
        "# Decision Tree Classifier Class\n",
        "class DecisionTreeClassifierFromScratch:\n",
        "    def __init__(self, max_depth=None):\n",
        "        self.max_depth = max_depth\n",
        "        self.tree = None\n",
        "\n",
        "    # Recursive function to build the tree\n",
        "    def _build_tree(self, X, y, depth=0):\n",
        "        num_samples = len(y)\n",
        "        num_samples_per_class = [np.sum(y == i) for i in np.unique(y)]\n",
        "        predicted_class = np.argmax(num_samples_per_class)\n",
        "\n",
        "        node = DecisionTreeNode(\n",
        "            gini=gini_impurity(y),\n",
        "            num_samples=num_samples,\n",
        "            num_samples_per_class=num_samples_per_class,\n",
        "            predicted_class=predicted_class\n",
        "        )\n",
        "\n",
        "        # Stopping criteria: max depth or pure node\n",
        "        if depth >= self.max_depth or node.gini == 0:\n",
        "            return node\n",
        "\n",
        "        # Find the best split\n",
        "        best_gain = -1\n",
        "        best_split = None\n",
        "        for feature_index in range(X.shape[1]):\n",
        "            # Get all unique values of the feature to split\n",
        "            thresholds = np.unique(X[:, feature_index])\n",
        "            for threshold in thresholds:\n",
        "                # Split the dataset\n",
        "                left_mask = X[:, feature_index] <= threshold\n",
        "                right_mask = ~left_mask\n",
        "                y_left, y_right = y[left_mask], y[right_mask]\n",
        "\n",
        "                # If there are no samples in the split, skip it\n",
        "                if len(y_left) == 0 or len(y_right) == 0:\n",
        "                    continue\n",
        "\n",
        "                # Compute information gain\n",
        "                gain = information_gain(y, y_left, y_right)\n",
        "                if gain > best_gain:\n",
        "                    best_gain = gain\n",
        "                    best_split = (feature_index, threshold)\n",
        "\n",
        "        if best_gain == -1:\n",
        "            return node\n",
        "\n",
        "        feature_index, threshold = best_split\n",
        "        left_mask = X[:, feature_index] <= threshold\n",
        "        right_mask = ~left_mask\n",
        "        y_left, y_right = y[left_mask], y[right_mask]\n",
        "\n",
        "        # Build left and right subtrees recursively\n",
        "        node.feature_index = feature_index\n",
        "        node.threshold = threshold\n",
        "        node.left = self._build_tree(X[left_mask], y_left, depth + 1)\n",
        "        node.right = self._build_tree(X[right_mask], y_right, depth + 1)\n",
        "\n",
        "        return node\n",
        "\n",
        "    # Fit the model to the training data\n",
        "    def fit(self, X, y):\n",
        "        self.tree = self._build_tree(X, y)\n",
        "\n",
        "    # Predict for a single sample\n",
        "    def _predict_one(self, x, node):\n",
        "        if node.left is None and node.right is None:\n",
        "            return node.predicted_class\n",
        "        if x[node.feature_index] <= node.threshold:\n",
        "            return self._predict_one(x, node.left)\n",
        "        else:\n",
        "            return self._predict_one(x, node.right)\n",
        "\n",
        "    # Predict for all samples\n",
        "    def predict(self, X):\n",
        "        return [self._predict_one(x, self.tree) for x in X]"
      ],
      "metadata": {
        "id": "cU41akjQs9R1"
      },
      "execution_count": null,
      "outputs": []
    },
    {
      "cell_type": "code",
      "source": [
        "# Train the decision tree model\n",
        "model = DecisionTreeClassifierFromScratch(max_depth=3)\n",
        "model.fit(X_train, y_train)"
      ],
      "metadata": {
        "id": "-BDkzZAytC4-"
      },
      "execution_count": null,
      "outputs": []
    },
    {
      "cell_type": "markdown",
      "source": [
        "## Performing Evaluation of model"
      ],
      "metadata": {
        "id": "SUlSU15BFmpr"
      }
    },
    {
      "cell_type": "code",
      "source": [
        "# Evaluate the model on the test set\n",
        "y_pred = model.predict(X_test)\n",
        "accuracy = np.mean(y_pred == y_test)\n",
        "print(f\"Accuracy: {accuracy * 100:.2f}%\")"
      ],
      "metadata": {
        "colab": {
          "base_uri": "https://localhost:8080/"
        },
        "id": "VWCxc2AutFUt",
        "outputId": "42c3a393-1b74-4318-dd8e-1cd624b5e0c7"
      },
      "execution_count": null,
      "outputs": [
        {
          "output_type": "stream",
          "name": "stdout",
          "text": [
            "Accuracy: 42.22%\n"
          ]
        }
      ]
    },
    {
      "cell_type": "markdown",
      "source": [
        "## This scratch approach gives 42% accuracy"
      ],
      "metadata": {
        "id": "0F6omPHgFpoP"
      }
    }
  ]
}
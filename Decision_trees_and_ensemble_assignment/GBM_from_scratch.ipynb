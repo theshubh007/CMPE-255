{
  "nbformat": 4,
  "nbformat_minor": 0,
  "metadata": {
    "colab": {
      "provenance": []
    },
    "kernelspec": {
      "name": "python3",
      "display_name": "Python 3"
    },
    "language_info": {
      "name": "python"
    }
  },
  "cells": [
    {
      "cell_type": "markdown",
      "source": [
        "Here I am using the \"California Housing Prices\"  [link of dataset](https://raw.githubusercontent.com/ageron/handson-ml/master/datasets/housing/housing.csv). It is a regression dataset suitable for testing Gradient Boosting. This dataset is also available on Kaggle."
      ],
      "metadata": {
        "id": "aVm0PoATjL6Z"
      }
    },
    {
      "cell_type": "markdown",
      "source": [
        "## Download and Preparing the Dataset\n"
      ],
      "metadata": {
        "id": "-iwBJmkYjTUL"
      }
    },
    {
      "cell_type": "code",
      "execution_count": null,
      "metadata": {
        "colab": {
          "base_uri": "https://localhost:8080/"
        },
        "id": "-L9_hBafjC7o",
        "outputId": "5fe9ec15-8678-48bd-aabf-bc316ce91a84"
      },
      "outputs": [
        {
          "output_type": "stream",
          "name": "stdout",
          "text": [
            "   longitude  latitude  housing_median_age  total_rooms  total_bedrooms  \\\n",
            "0    -122.23     37.88                41.0        880.0           129.0   \n",
            "1    -122.22     37.86                21.0       7099.0          1106.0   \n",
            "2    -122.24     37.85                52.0       1467.0           190.0   \n",
            "3    -122.25     37.85                52.0       1274.0           235.0   \n",
            "4    -122.25     37.85                52.0       1627.0           280.0   \n",
            "\n",
            "   population  households  median_income  median_house_value ocean_proximity  \n",
            "0       322.0       126.0         8.3252            452600.0        NEAR BAY  \n",
            "1      2401.0      1138.0         8.3014            358500.0        NEAR BAY  \n",
            "2       496.0       177.0         7.2574            352100.0        NEAR BAY  \n",
            "3       558.0       219.0         5.6431            341300.0        NEAR BAY  \n",
            "4       565.0       259.0         3.8462            342200.0        NEAR BAY  \n"
          ]
        }
      ],
      "source": [
        "import pandas as pd\n",
        "\n",
        "# Load the dataset\n",
        "url = \"https://raw.githubusercontent.com/ageron/handson-ml/master/datasets/housing/housing.csv\"\n",
        "data = pd.read_csv(url)\n",
        "\n",
        "# Display the first few rows\n",
        "print(data.head())\n"
      ]
    },
    {
      "cell_type": "markdown",
      "source": [
        "## Data Preprocessing\n",
        "\n",
        "We’ll preprocess the data to make it ready for training. Steps include:\n",
        "\n",
        "- Handling missing values.\n",
        "- Encoding categorical variables.\n",
        "- Splitting the dataset into training and testing sets.\n",
        "- Standardizing the features."
      ],
      "metadata": {
        "id": "mLg3EHlujYx3"
      }
    },
    {
      "cell_type": "code",
      "source": [
        "from sklearn.model_selection import train_test_split\n",
        "from sklearn.preprocessing import StandardScaler\n",
        "\n",
        "# Fill missing values\n",
        "data['total_bedrooms'] = data['total_bedrooms'].fillna(data['total_bedrooms'].median())\n",
        "\n",
        "# One-hot encoding for categorical variable\n",
        "data = pd.get_dummies(data, columns=['ocean_proximity'], drop_first=True)\n",
        "\n",
        "# Features and target\n",
        "X = data.drop('median_house_value', axis=1)\n",
        "y = data['median_house_value']\n",
        "\n",
        "# Split the data\n",
        "X_train, X_test, y_train, y_test = train_test_split(X, y, test_size=0.2, random_state=42)\n",
        "\n",
        "# Standardize features\n",
        "scaler = StandardScaler()\n",
        "X_train = scaler.fit_transform(X_train)\n",
        "X_test = scaler.transform(X_test)\n"
      ],
      "metadata": {
        "id": "6odMFTsKjVHR"
      },
      "execution_count": null,
      "outputs": []
    },
    {
      "cell_type": "markdown",
      "source": [
        "Step 4: Implementing Gradient Boosting from Scratch\n",
        "\n",
        "Gradient Boosting combines weak learners iteratively to minimize a loss function. Here’s the plan:\n",
        "\n",
        "Initialize the predictions with a baseline (e.g., mean of target values).\n",
        "\n",
        "Iteratively add weak learners:\n",
        "\n",
        "Compute pseudo-residuals (negative gradient of loss).\n",
        "\n",
        "Fit a weak learner (e.g., small decision tree) to residuals.\n",
        "Update predictions using the weak learner."
      ],
      "metadata": {
        "id": "IL1byWrej1Cx"
      }
    },
    {
      "cell_type": "markdown",
      "source": [
        "## Initialize Predictions\n",
        "\n",
        "The first step in Gradient Boosting is to initialize predictions with a constant value (usually the mean of the target for regression)."
      ],
      "metadata": {
        "id": "8kOis_Rlj8WX"
      }
    },
    {
      "cell_type": "code",
      "source": [
        "import numpy as np\n",
        "\n",
        "# Initialize predictions with the mean of the target\n",
        "y_train_mean = np.mean(y_train)\n",
        "pred_train = np.full_like(y_train, y_train_mean, dtype=np.float64)\n",
        "pred_test = np.full_like(y_test, y_train_mean, dtype=np.float64)\n",
        "\n",
        "print(f\"Initial train predictions: {pred_train[:5]}\")\n",
        "print(f\"Initial test predictions: {pred_test[:5]}\")\n"
      ],
      "metadata": {
        "colab": {
          "base_uri": "https://localhost:8080/"
        },
        "id": "jG-cCP4HjgkI",
        "outputId": "e003a3c7-309d-4849-af2f-b0a8d1de6539"
      },
      "execution_count": null,
      "outputs": [
        {
          "output_type": "stream",
          "name": "stdout",
          "text": [
            "Initial train predictions: [207194.69373789 207194.69373789 207194.69373789 207194.69373789\n",
            " 207194.69373789]\n",
            "Initial test predictions: [207194.69373789 207194.69373789 207194.69373789 207194.69373789\n",
            " 207194.69373789]\n"
          ]
        }
      ]
    },
    {
      "cell_type": "markdown",
      "source": [
        "## Define a Weak Learner\n",
        "\n",
        "We will use a simple decision tree regressor as the weak learner. A tree with limited depth works well in Gradient Boosting."
      ],
      "metadata": {
        "id": "7iV7ign4kC3e"
      }
    },
    {
      "cell_type": "code",
      "source": [
        "from sklearn.tree import DecisionTreeRegressor\n",
        "\n",
        "# Weak learner parameters\n",
        "tree_params = {\"max_depth\": 3, \"random_state\": 42}\n",
        "\n",
        "# Example of fitting a single weak learner\n",
        "tree = DecisionTreeRegressor(**tree_params)\n",
        "residuals = y_train - pred_train\n",
        "tree.fit(X_train, residuals)\n",
        "\n",
        "# Predict residuals for training and testing\n",
        "train_leaf_preds = tree.predict(X_train)\n",
        "test_leaf_preds = tree.predict(X_test)\n",
        "\n",
        "print(f\"Train leaf predictions: {train_leaf_preds[:5]}\")\n",
        "print(f\"Test leaf predictions: {test_leaf_preds[:5]}\")\n"
      ],
      "metadata": {
        "colab": {
          "base_uri": "https://localhost:8080/"
        },
        "id": "7PZPFtrckAyT",
        "outputId": "fae5782d-81d3-4f77-8149-622df355bdb0"
      },
      "execution_count": null,
      "outputs": [
        {
          "output_type": "stream",
          "name": "stdout",
          "text": [
            "Train leaf predictions: [ 29471.81326316  29471.81326316  29471.81326316 -36283.2536713\n",
            " -66254.27084988]\n",
            "Test leaf predictions: [-116040.80771397 -116040.80771397   29471.81326316  104573.01199524\n",
            "   29471.81326316]\n"
          ]
        }
      ]
    },
    {
      "cell_type": "markdown",
      "source": [
        "## Update Predictions\n",
        "\n",
        "Gradient Boosting updates predictions iteratively. We’ll use a learning rate (\n",
        "𝜂\n",
        "η) to scale updates."
      ],
      "metadata": {
        "id": "tkLlZvUSkIg0"
      }
    },
    {
      "cell_type": "code",
      "source": [
        "# Learning rate\n",
        "learning_rate = 0.1\n",
        "\n",
        "# Update predictions\n",
        "pred_train += learning_rate * train_leaf_preds\n",
        "pred_test += learning_rate * test_leaf_preds\n",
        "\n",
        "print(f\"Updated train predictions: {pred_train[:5]}\")\n",
        "print(f\"Updated test predictions: {pred_test[:5]}\")\n"
      ],
      "metadata": {
        "colab": {
          "base_uri": "https://localhost:8080/"
        },
        "id": "kTpWISpzkF4q",
        "outputId": "97217f51-3020-4006-a38c-a8701d64a264"
      },
      "execution_count": null,
      "outputs": [
        {
          "output_type": "stream",
          "name": "stdout",
          "text": [
            "Updated train predictions: [210141.8750642  210141.8750642  210141.8750642  203566.36837076\n",
            " 200569.2666529 ]\n",
            "Updated test predictions: [195590.61296649 195590.61296649 210141.8750642  217651.99493741\n",
            " 210141.8750642 ]\n"
          ]
        }
      ]
    },
    {
      "cell_type": "markdown",
      "source": [
        "## Iterate to Build the Model\n",
        "\n",
        "Now, we’ll implement the full Gradient Boosting algorithm by iterating over a number of boosting rounds (estimators)."
      ],
      "metadata": {
        "id": "ntlAPUD_kNwh"
      }
    },
    {
      "cell_type": "code",
      "source": [
        "# Number of boosting rounds\n",
        "n_estimators = 100\n",
        "trees = []\n",
        "\n",
        "# Gradient Boosting iterations\n",
        "for i in range(n_estimators):\n",
        "    # Compute residuals\n",
        "    residuals = y_train - pred_train\n",
        "\n",
        "    # Fit weak learner to residuals\n",
        "    tree = DecisionTreeRegressor(**tree_params)\n",
        "    tree.fit(X_train, residuals)\n",
        "\n",
        "    # Store the trained tree\n",
        "    trees.append(tree)\n",
        "\n",
        "    # Predict residuals and update predictions\n",
        "    train_leaf_preds = tree.predict(X_train)\n",
        "    test_leaf_preds = tree.predict(X_test)\n",
        "\n",
        "    pred_train += learning_rate * train_leaf_preds\n",
        "    pred_test += learning_rate * test_leaf_preds\n",
        "\n",
        "    # Log the progress every 10 steps\n",
        "    if (i + 1) % 10 == 0:\n",
        "        train_loss = np.mean((y_train - pred_train) ** 2)\n",
        "        test_loss = np.mean((y_test - pred_test) ** 2)\n",
        "        print(f\"Iteration {i+1}: Train Loss = {train_loss:.4f}, Test Loss = {test_loss:.4f}\")\n"
      ],
      "metadata": {
        "colab": {
          "base_uri": "https://localhost:8080/"
        },
        "id": "4EkCqWqJkLhv",
        "outputId": "f5416b4d-8d15-4159-8bc2-ddc25da6dd2f"
      },
      "execution_count": null,
      "outputs": [
        {
          "output_type": "stream",
          "name": "stdout",
          "text": [
            "Iteration 10: Train Loss = 6034818586.7547, Test Loss = 6135071725.8050\n",
            "Iteration 20: Train Loss = 4848958149.3479, Test Loss = 5058034026.5379\n",
            "Iteration 30: Train Loss = 4235810507.1214, Test Loss = 4448921329.3216\n",
            "Iteration 40: Train Loss = 3859912965.1434, Test Loss = 4103170265.2668\n",
            "Iteration 50: Train Loss = 3536395252.2230, Test Loss = 3796332851.5490\n",
            "Iteration 60: Train Loss = 3334017419.0099, Test Loss = 3603816003.0913\n",
            "Iteration 70: Train Loss = 3147370863.9091, Test Loss = 3430934636.8676\n",
            "Iteration 80: Train Loss = 3031836491.7549, Test Loss = 3332762881.3748\n",
            "Iteration 90: Train Loss = 2878091716.1863, Test Loss = 3190840056.0138\n",
            "Iteration 100: Train Loss = 2791507476.8991, Test Loss = 3121099344.8783\n"
          ]
        }
      ]
    },
    {
      "cell_type": "markdown",
      "source": [
        "## Evaluate the Model\n",
        "\n",
        "After training, we’ll compute metrics like Mean Squared Error (MSE) or R² score."
      ],
      "metadata": {
        "id": "okk6mHxakTkC"
      }
    },
    {
      "cell_type": "code",
      "source": [
        "from sklearn.metrics import mean_squared_error, r2_score\n",
        "\n",
        "# Final evaluation\n",
        "mse_train = mean_squared_error(y_train, pred_train)\n",
        "mse_test = mean_squared_error(y_test, pred_test)\n",
        "\n",
        "r2_train = r2_score(y_train, pred_train)\n",
        "r2_test = r2_score(y_test, pred_test)\n",
        "\n",
        "print(f\"Train MSE: {mse_train:.4f}, Test MSE: {mse_test:.4f}\")\n",
        "print(f\"Train R²: {r2_train:.4f}, Test R²: {r2_test:.4f}\")\n"
      ],
      "metadata": {
        "colab": {
          "base_uri": "https://localhost:8080/"
        },
        "id": "_MoR8ZVzkPpT",
        "outputId": "753aeb45-c976-417c-c795-5a404a683aa1"
      },
      "execution_count": null,
      "outputs": [
        {
          "output_type": "stream",
          "name": "stdout",
          "text": [
            "Train MSE: 2791507476.8991, Test MSE: 3121099344.8783\n",
            "Train R²: 0.7912, Test R²: 0.7618\n"
          ]
        }
      ]
    },
    {
      "cell_type": "code",
      "source": [
        "import matplotlib.pyplot as plt\n",
        "\n",
        "# Track losses during training\n",
        "train_losses = []\n",
        "test_losses = []\n",
        "\n",
        "# Re-run the boosting iterations to collect loss data\n",
        "pred_train = np.full_like(y_train, y_train_mean, dtype=np.float64)\n",
        "pred_test = np.full_like(y_test, y_train_mean, dtype=np.float64)\n",
        "\n",
        "for i in range(n_estimators):\n",
        "    residuals = y_train - pred_train\n",
        "    tree = DecisionTreeRegressor(**tree_params)\n",
        "    tree.fit(X_train, residuals)\n",
        "\n",
        "    train_leaf_preds = tree.predict(X_train)\n",
        "    test_leaf_preds = tree.predict(X_test)\n",
        "\n",
        "    pred_train += learning_rate * train_leaf_preds\n",
        "    pred_test += learning_rate * test_leaf_preds\n",
        "\n",
        "    train_losses.append(mean_squared_error(y_train, pred_train))\n",
        "    test_losses.append(mean_squared_error(y_test, pred_test))\n",
        "\n",
        "# Plot the loss curves\n",
        "plt.figure(figsize=(10, 6))\n",
        "plt.plot(range(n_estimators), train_losses, label=\"Train Loss\", color=\"blue\")\n",
        "plt.plot(range(n_estimators), test_losses, label=\"Test Loss\", color=\"orange\")\n",
        "plt.xlabel(\"Boosting Iteration\")\n",
        "plt.ylabel(\"Mean Squared Error\")\n",
        "plt.title(\"Loss Over Boosting Iterations\")\n",
        "plt.legend()\n",
        "plt.grid(True)\n",
        "plt.show()\n"
      ],
      "metadata": {
        "colab": {
          "base_uri": "https://localhost:8080/",
          "height": 564
        },
        "id": "UKvtMff-kd9w",
        "outputId": "cb47ae0c-b2ad-4400-9cb6-d1a9782a8c66"
      },
      "execution_count": null,
      "outputs": [
        {
          "output_type": "display_data",
          "data": {
            "text/plain": [
              "<Figure size 1000x600 with 1 Axes>"
            ],
            "image/png": "[encoded data removed]"
          },
          "metadata": {}
        }
      ]
    }
  ]
}
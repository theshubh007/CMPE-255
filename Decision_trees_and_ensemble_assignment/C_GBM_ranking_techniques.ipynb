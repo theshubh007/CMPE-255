{
  "nbformat": 4,
  "nbformat_minor": 0,
  "metadata": {
    "colab": {
      "provenance": []
    },
    "kernelspec": {
      "name": "python3",
      "display_name": "Python 3"
    },
    "language_info": {
      "name": "python"
    }
  },
  "cells": [
    {
      "cell_type": "markdown",
      "source": [
        "Using Dataset student performance: https://www.kaggle.com/datasets/rabieelkharoua/students-performance-dataset"
      ],
      "metadata": {
        "id": "XNAEI0ECHpec"
      }
    },
    {
      "cell_type": "code",
      "execution_count": null,
      "metadata": {
        "colab": {
          "base_uri": "https://localhost:8080/"
        },
        "id": "FmdW2kZDvUlG",
        "outputId": "0bf56006-4d8a-4c4a-a878-cd12df4cf360"
      },
      "outputs": [
        {
          "output_type": "stream",
          "name": "stdout",
          "text": [
            "Requirement already satisfied: kagglehub in /usr/local/lib/python3.10/dist-packages (0.3.4)\n",
            "Requirement already satisfied: packaging in /usr/local/lib/python3.10/dist-packages (from kagglehub) (24.2)\n",
            "Requirement already satisfied: requests in /usr/local/lib/python3.10/dist-packages (from kagglehub) (2.32.3)\n",
            "Requirement already satisfied: tqdm in /usr/local/lib/python3.10/dist-packages (from kagglehub) (4.66.6)\n",
            "Requirement already satisfied: charset-normalizer<4,>=2 in /usr/local/lib/python3.10/dist-packages (from requests->kagglehub) (3.4.0)\n",
            "Requirement already satisfied: idna<4,>=2.5 in /usr/local/lib/python3.10/dist-packages (from requests->kagglehub) (3.10)\n",
            "Requirement already satisfied: urllib3<3,>=1.21.1 in /usr/local/lib/python3.10/dist-packages (from requests->kagglehub) (2.2.3)\n",
            "Requirement already satisfied: certifi>=2017.4.17 in /usr/local/lib/python3.10/dist-packages (from requests->kagglehub) (2024.8.30)\n"
          ]
        }
      ],
      "source": [
        "!pip install kagglehub"
      ]
    },
    {
      "cell_type": "markdown",
      "source": [
        "### Load the dataset"
      ],
      "metadata": {
        "id": "hjAw7XqNIBY2"
      }
    },
    {
      "cell_type": "code",
      "source": [
        "import kagglehub\n",
        "import pandas as pd\n",
        "import xgboost as xgb\n",
        "\n",
        "path = kagglehub.dataset_download(\"rabieelkharoua/students-performance-dataset\")\n",
        "print(\"Path to dataset files:\", path)"
      ],
      "metadata": {
        "colab": {
          "base_uri": "https://localhost:8080/"
        },
        "id": "ZdAJU41gv17a",
        "outputId": "579a11bc-a27e-46d4-af70-49f5e350a475"
      },
      "execution_count": null,
      "outputs": [
        {
          "output_type": "stream",
          "name": "stdout",
          "text": [
            "Downloading from https://www.kaggle.com/api/v1/datasets/download/rabieelkharoua/students-performance-dataset?dataset_version_number=2...\n"
          ]
        },
        {
          "output_type": "stream",
          "name": "stderr",
          "text": [
            "100%|██████████| 66.2k/66.2k [00:00<00:00, 51.4MB/s]"
          ]
        },
        {
          "output_type": "stream",
          "name": "stdout",
          "text": [
            "Extracting files...\n",
            "Path to dataset files: /root/.cache/kagglehub/datasets/rabieelkharoua/students-performance-dataset/versions/2\n"
          ]
        },
        {
          "output_type": "stream",
          "name": "stderr",
          "text": [
            "\n"
          ]
        }
      ]
    },
    {
      "cell_type": "code",
      "source": [
        "data_path = path + \"/students-performance.csv\""
      ],
      "metadata": {
        "id": "7-aYN-gZv9LF"
      },
      "execution_count": null,
      "outputs": []
    },
    {
      "cell_type": "code",
      "source": [
        "import os\n",
        "print(\"Files in the dataset directory:\", os.listdir(path))\n"
      ],
      "metadata": {
        "colab": {
          "base_uri": "https://localhost:8080/"
        },
        "id": "WO1I4zH3v_40",
        "outputId": "a8e608ef-8b92-4ea2-9ec8-c3b94777a9b4"
      },
      "execution_count": null,
      "outputs": [
        {
          "output_type": "stream",
          "name": "stdout",
          "text": [
            "Files in the dataset directory: ['Student_performance_data _.csv']\n"
          ]
        }
      ]
    },
    {
      "cell_type": "code",
      "source": [
        "# Load the dataset into pandas\n",
        "data_path = os.path.join(path, \"Student_performance_data _.csv\")"
      ],
      "metadata": {
        "id": "UJsQ3XJXwBu6"
      },
      "execution_count": null,
      "outputs": []
    },
    {
      "cell_type": "code",
      "source": [
        "# Load the dataset into a pandas DataFrame\n",
        "df = pd.read_csv(data_path)\n",
        "\n",
        "# Now you can use .head() on the DataFrame\n",
        "print(df.head())\n"
      ],
      "metadata": {
        "colab": {
          "base_uri": "https://localhost:8080/"
        },
        "id": "1z72jrypwDNK",
        "outputId": "6431791d-9ad8-45f1-8ce4-f92da3fffcdb"
      },
      "execution_count": null,
      "outputs": [
        {
          "output_type": "stream",
          "name": "stdout",
          "text": [
            "   StudentID  Age  Gender  Ethnicity  ParentalEducation  StudyTimeWeekly  \\\n",
            "0       1001   17       1          0                  2        19.833723   \n",
            "1       1002   18       0          0                  1        15.408756   \n",
            "2       1003   15       0          2                  3         4.210570   \n",
            "3       1004   17       1          0                  3        10.028829   \n",
            "4       1005   17       1          0                  2         4.672495   \n",
            "\n",
            "   Absences  Tutoring  ParentalSupport  Extracurricular  Sports  Music  \\\n",
            "0         7         1                2                0       0      1   \n",
            "1         0         0                1                0       0      0   \n",
            "2        26         0                2                0       0      0   \n",
            "3        14         0                3                1       0      0   \n",
            "4        17         1                3                0       0      0   \n",
            "\n",
            "   Volunteering       GPA  GradeClass  \n",
            "0             0  2.929196         2.0  \n",
            "1             0  3.042915         1.0  \n",
            "2             0  0.112602         4.0  \n",
            "3             0  2.054218         3.0  \n",
            "4             0  1.288061         4.0  \n"
          ]
        }
      ]
    },
    {
      "cell_type": "markdown",
      "source": [
        "## Encoding categorical variables"
      ],
      "metadata": {
        "id": "9L9xUPBDIGzw"
      }
    },
    {
      "cell_type": "code",
      "source": [
        "data_encoded = pd.get_dummies(df, drop_first=True)"
      ],
      "metadata": {
        "id": "ldwMn6njwFPR"
      },
      "execution_count": null,
      "outputs": []
    },
    {
      "cell_type": "code",
      "source": [
        "X = data_encoded.drop(columns=['Gender'])\n",
        "y = data_encoded['Gender']\n"
      ],
      "metadata": {
        "id": "fcDV4fTfwHoh"
      },
      "execution_count": null,
      "outputs": []
    },
    {
      "cell_type": "markdown",
      "source": [
        "## Split data into training and testing sets"
      ],
      "metadata": {
        "id": "RjXVT25rILI-"
      }
    },
    {
      "cell_type": "code",
      "source": [
        "from sklearn.model_selection import train_test_split\n",
        "X_train, X_test, y_train, y_test = train_test_split(X, y, test_size=0.3, random_state=42)"
      ],
      "metadata": {
        "id": "kPiqocTuwJZU"
      },
      "execution_count": null,
      "outputs": []
    },
    {
      "cell_type": "markdown",
      "source": [
        "## Convert the data into DMatrix format for XGBoost"
      ],
      "metadata": {
        "id": "EDPG7Nh6ISoU"
      }
    },
    {
      "cell_type": "code",
      "source": [
        "dtrain = xgb.DMatrix(X_train, label=y_train)\n",
        "dtest = xgb.DMatrix(X_test, label=y_test)"
      ],
      "metadata": {
        "id": "i-eAyZSPwNLo"
      },
      "execution_count": null,
      "outputs": []
    },
    {
      "cell_type": "code",
      "source": [
        "# Set the parameters for XGBoost\n",
        "params = {\n",
        "    'objective': 'binary:logistic',\n",
        "    'eval_metric': 'logloss',\n",
        "    'max_depth': 5,\n",
        "    'eta': 0.1,\n",
        "    'silent': 1\n",
        "}"
      ],
      "metadata": {
        "id": "OVibpBSZwO77"
      },
      "execution_count": null,
      "outputs": []
    },
    {
      "cell_type": "markdown",
      "source": [
        "## Train the model"
      ],
      "metadata": {
        "id": "6OqT6c2_IbzY"
      }
    },
    {
      "cell_type": "code",
      "source": [
        "bst = xgb.train(params, dtrain, num_boost_round=100)"
      ],
      "metadata": {
        "colab": {
          "base_uri": "https://localhost:8080/"
        },
        "id": "RpKaxifQwQx7",
        "outputId": "98b871e6-2ee0-479a-e0a3-55faacb41163"
      },
      "execution_count": null,
      "outputs": [
        {
          "output_type": "stream",
          "name": "stderr",
          "text": [
            "/usr/local/lib/python3.10/dist-packages/xgboost/core.py:158: UserWarning: [02:58:25] WARNING: /workspace/src/learner.cc:740: \n",
            "Parameters: { \"silent\" } are not used.\n",
            "\n",
            "  warnings.warn(smsg, UserWarning)\n"
          ]
        }
      ]
    },
    {
      "cell_type": "markdown",
      "source": [
        "## Perform prediction"
      ],
      "metadata": {
        "id": "2u4WX0dbIeI0"
      }
    },
    {
      "cell_type": "code",
      "source": [
        "y_pred = bst.predict(dtest)"
      ],
      "metadata": {
        "id": "CPFW2ss2wSbi"
      },
      "execution_count": null,
      "outputs": []
    },
    {
      "cell_type": "markdown",
      "source": [
        "Convert probabilities to binary (0 or 1)"
      ],
      "metadata": {
        "id": "aJkbBXo0Iixn"
      }
    },
    {
      "cell_type": "code",
      "source": [
        "y_pred_binary = [1 if i > 0.5 else 0 for i in y_pred]"
      ],
      "metadata": {
        "id": "HcgEy1MMwUgV"
      },
      "execution_count": null,
      "outputs": []
    },
    {
      "cell_type": "code",
      "source": [
        "from sklearn.metrics import accuracy_score\n",
        "accuracy = accuracy_score(y_test, y_pred_binary)\n",
        "\n",
        "print(f'Accuracy: {accuracy:.4f}')"
      ],
      "metadata": {
        "colab": {
          "base_uri": "https://localhost:8080/"
        },
        "id": "q_WvKX95wWjL",
        "outputId": "ae5d1b1a-c82e-4925-c8b5-63bfe266f877"
      },
      "execution_count": null,
      "outputs": [
        {
          "output_type": "stream",
          "name": "stdout",
          "text": [
            "Accuracy: 0.4875\n"
          ]
        }
      ]
    },
    {
      "cell_type": "markdown",
      "source": [
        "## Visualize feature importance"
      ],
      "metadata": {
        "id": "xkEJxXNSIm2o"
      }
    },
    {
      "cell_type": "code",
      "source": [
        "import matplotlib.pyplot as plt\n",
        "xgb.plot_importance(bst)\n",
        "plt.show()"
      ],
      "metadata": {
        "colab": {
          "base_uri": "https://localhost:8080/",
          "height": 472
        },
        "id": "YWGbsy4IwYJC",
        "outputId": "ae54f9ce-6c4c-4a2f-a9f4-c30d584a0fe9"
      },
      "execution_count": null,
      "outputs": [
        {
          "output_type": "display_data",
          "data": {
            "text/plain": [
              "<Figure size 640x480 with 1 Axes>"
            ],
            "image/png": "[encoded data removed]"
          },
          "metadata": {}
        }
      ]
    }
  ]
}
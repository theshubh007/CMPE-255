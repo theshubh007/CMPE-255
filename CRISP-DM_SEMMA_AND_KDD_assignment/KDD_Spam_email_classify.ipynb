{
  "nbformat": 4,
  "nbformat_minor": 0,
  "metadata": {
    "colab": {
      "provenance": []
    },
    "kernelspec": {
      "name": "python3",
      "display_name": "Python 3"
    },
    "language_info": {
      "name": "python"
    }
  },
  "cells": [
    {
      "cell_type": "markdown",
      "source": [
        "#### The Knowledge Discovery in Databases (KDD) process involves a series of steps to extract valuable knowledge from large datasets. Here’s a detailed approach for the Spam Email Dataset using the KDD methodology, with explanations and corresponding code."
      ],
      "metadata": {
        "id": "AHHPMR6yHfno"
      }
    },
    {
      "cell_type": "markdown",
      "source": [
        "Dataset: https://www.kaggle.com/datasets/jackksoncsie/spam-email-dataset"
      ],
      "metadata": {
        "id": "8Jlv2Zd-ILU1"
      }
    },
    {
      "cell_type": "markdown",
      "source": [
        "\n",
        "## 1. Selection\n",
        "Description: In this phase, we select the dataset that will be used for the analysis. For the Spam Email Dataset, we will load and examine its structure.\n"
      ],
      "metadata": {
        "id": "rJmjqxBBHc3i"
      }
    },
    {
      "cell_type": "code",
      "execution_count": 4,
      "metadata": {
        "colab": {
          "base_uri": "https://localhost:8080/"
        },
        "id": "P7P55eH-G2jn",
        "outputId": "ce7e0aae-5474-485a-be6d-762504e9a8c8"
      },
      "outputs": [
        {
          "output_type": "stream",
          "name": "stdout",
          "text": [
            "                                                text  spam\n",
            "0  Subject: naturally irresistible your corporate...     1\n",
            "1  Subject: the stock trading gunslinger  fanny i...     1\n",
            "2  Subject: unbelievable new homes made easy  im ...     1\n",
            "3  Subject: 4 color printing special  request add...     1\n",
            "4  Subject: do not have money , get software cds ...     1\n",
            "<class 'pandas.core.frame.DataFrame'>\n",
            "RangeIndex: 5728 entries, 0 to 5727\n",
            "Data columns (total 2 columns):\n",
            " #   Column  Non-Null Count  Dtype \n",
            "---  ------  --------------  ----- \n",
            " 0   text    5728 non-null   object\n",
            " 1   spam    5728 non-null   int64 \n",
            "dtypes: int64(1), object(1)\n",
            "memory usage: 89.6+ KB\n",
            "None\n",
            "spam\n",
            "0    4360\n",
            "1    1368\n",
            "Name: count, dtype: int64\n"
          ]
        }
      ],
      "source": [
        "import pandas as pd\n",
        "\n",
        "# Load the dataset\n",
        "df = pd.read_csv('/content/emails.csv')  # Adjust the path accordingly\n",
        "\n",
        "# Display the first few rows of the dataset\n",
        "print(df.head())\n",
        "\n",
        "# Display basic information about the dataset\n",
        "print(df.info())\n",
        "\n",
        "# Check for class distribution\n",
        "print(df['spam'].value_counts())\n"
      ]
    },
    {
      "cell_type": "markdown",
      "source": [
        "## 2. Preprocessing\n",
        "Description: This phase involves cleaning and preparing the data for analysis. For text data, this includes handling missing values, text normalization (e.g., removing punctuation, converting to lowercase), and splitting the dataset into training and testing sets."
      ],
      "metadata": {
        "id": "6MfjZFtEHjYI"
      }
    },
    {
      "cell_type": "code",
      "source": [
        "from sklearn.model_selection import train_test_split\n",
        "import re\n",
        "\n",
        "# Check for missing values\n",
        "print(df.isnull().sum())\n",
        "\n",
        "# Fill missing values if necessary (in this case, we can drop them)\n",
        "df.dropna(inplace=True)\n",
        "\n",
        "# Text preprocessing function\n",
        "def preprocess_text(text):\n",
        "    # Remove punctuation and special characters\n",
        "    text = re.sub(r'[^\\w\\s]', '', text)\n",
        "    # Convert to lowercase\n",
        "    text = text.lower()\n",
        "    return text\n",
        "\n",
        "# Apply text preprocessing to the 'text' column\n",
        "df['text'] = df['text'].apply(preprocess_text)\n",
        "\n",
        "# Split the dataset into features and target variable\n",
        "X = df['text']  # Features\n",
        "y = df['spam']  # Target\n",
        "\n",
        "# Split the data into training and testing sets\n",
        "X_train, X_test, y_train, y_test = train_test_split(X, y, test_size=0.2, random_state=42)\n"
      ],
      "metadata": {
        "colab": {
          "base_uri": "https://localhost:8080/"
        },
        "id": "PQnlutv-HmxQ",
        "outputId": "07f10458-83b3-4df0-97a4-224518e1c1ef"
      },
      "execution_count": 6,
      "outputs": [
        {
          "output_type": "stream",
          "name": "stdout",
          "text": [
            "text    0\n",
            "spam    0\n",
            "dtype: int64\n"
          ]
        }
      ]
    },
    {
      "cell_type": "markdown",
      "source": [
        "## 3. Transformation\n",
        "Description: This phase involves transforming the data into a suitable format for mining. For text data, we typically convert the text into numerical representations using techniques such as TF-IDF or Count Vectorization."
      ],
      "metadata": {
        "id": "KStuRwLXHqfH"
      }
    },
    {
      "cell_type": "code",
      "source": [
        "from sklearn.feature_extraction.text import TfidfVectorizer\n",
        "\n",
        "# Initialize the TF-IDF Vectorizer\n",
        "vectorizer = TfidfVectorizer()\n",
        "\n",
        "# Fit and transform the training data\n",
        "X_train_tfidf = vectorizer.fit_transform(X_train)\n",
        "\n",
        "# Transform the test data\n",
        "X_test_tfidf = vectorizer.transform(X_test)\n",
        "\n",
        "# Check the shape of the transformed data\n",
        "print(X_train_tfidf.shape)\n",
        "print(X_test_tfidf.shape)\n"
      ],
      "metadata": {
        "colab": {
          "base_uri": "https://localhost:8080/"
        },
        "id": "rPoVoQJZHrgn",
        "outputId": "a6260550-7ed2-4b55-ea1c-801c35a79f8b"
      },
      "execution_count": 7,
      "outputs": [
        {
          "output_type": "stream",
          "name": "stdout",
          "text": [
            "(4582, 33813)\n",
            "(1146, 33813)\n"
          ]
        }
      ]
    },
    {
      "cell_type": "markdown",
      "source": [
        "## 4. Data Mining\n",
        "Description: This phase involves applying data mining techniques to extract patterns from the data. In this case, we will train a classification model to detect spam emails."
      ],
      "metadata": {
        "id": "L0smt5wjHufu"
      }
    },
    {
      "cell_type": "code",
      "source": [
        "from sklearn.ensemble import RandomForestClassifier\n",
        "from sklearn.metrics import classification_report, confusion_matrix, accuracy_score\n",
        "\n",
        "# Initialize and train the Random Forest model\n",
        "model = RandomForestClassifier(n_estimators=100, random_state=42)\n",
        "model.fit(X_train_tfidf, y_train)\n",
        "\n",
        "# Make predictions on the test set\n",
        "y_pred = model.predict(X_test_tfidf)\n",
        "\n",
        "# Evaluate the model's performance\n",
        "print(\"Confusion Matrix:\")\n",
        "print(confusion_matrix(y_test, y_pred))\n",
        "\n",
        "print(\"\\nClassification Report:\")\n",
        "print(classification_report(y_test, y_pred))\n",
        "\n",
        "accuracy = accuracy_score(y_test, y_pred)\n",
        "print(f\"\\nAccuracy Score: {accuracy:.4f}\")\n"
      ],
      "metadata": {
        "colab": {
          "base_uri": "https://localhost:8080/"
        },
        "id": "GXfbvJXNHvkw",
        "outputId": "c2c5c486-1b89-4190-8e8a-62f4c4717cd3"
      },
      "execution_count": 8,
      "outputs": [
        {
          "output_type": "stream",
          "name": "stdout",
          "text": [
            "Confusion Matrix:\n",
            "[[856   0]\n",
            " [ 46 244]]\n",
            "\n",
            "Classification Report:\n",
            "              precision    recall  f1-score   support\n",
            "\n",
            "           0       0.95      1.00      0.97       856\n",
            "           1       1.00      0.84      0.91       290\n",
            "\n",
            "    accuracy                           0.96      1146\n",
            "   macro avg       0.97      0.92      0.94      1146\n",
            "weighted avg       0.96      0.96      0.96      1146\n",
            "\n",
            "\n",
            "Accuracy Score: 0.9599\n"
          ]
        }
      ]
    },
    {
      "cell_type": "markdown",
      "source": [
        "## 5. Interpretation\n",
        "Description: In this phase, we interpret the results of the data mining process. This includes understanding the model's performance, analyzing the feature importance, and drawing conclusions from the findings."
      ],
      "metadata": {
        "id": "JHsAUEP_Hzef"
      }
    },
    {
      "cell_type": "code",
      "source": [
        "import matplotlib.pyplot as plt\n",
        "import seaborn as sns\n",
        "\n",
        "# Visualizing the confusion matrix\n",
        "conf_matrix = confusion_matrix(y_test, y_pred)\n",
        "\n",
        "plt.figure(figsize=(8, 6))\n",
        "sns.heatmap(conf_matrix, annot=True, fmt='d', cmap='Blues', xticklabels=['Not Spam', 'Spam'], yticklabels=['Not Spam', 'Spam'])\n",
        "plt.title('Confusion Matrix')\n",
        "plt.xlabel('Predicted')\n",
        "plt.ylabel('Actual')\n",
        "plt.show()\n",
        "\n",
        "# Feature importance can be assessed by inspecting the most common words in spam vs. not spam\n",
        "# This can be done by inspecting the coefficients of the model, if using a linear model,\n",
        "# or by looking at the features with highest scores in a tree-based model.\n"
      ],
      "metadata": {
        "colab": {
          "base_uri": "https://localhost:8080/",
          "height": 564
        },
        "id": "i_ydhSNZH1fO",
        "outputId": "bd502a93-17d7-4018-a5a8-dea2a81beb35"
      },
      "execution_count": 9,
      "outputs": [
        {
          "output_type": "display_data",
          "data": {
            "text/plain": [
              "<Figure size 800x600 with 2 Axes>"
            ],
            "image/png": "[encoded data removed]"
          },
          "metadata": {}
        }
      ]
    },
    {
      "cell_type": "markdown",
      "source": [
        "## 6. Evaluation\n",
        "Description: This phase assesses the entire KDD process, including the quality of the knowledge discovered and whether it meets the initial objectives."
      ],
      "metadata": {
        "id": "XSxbJDyqH4sQ"
      }
    },
    {
      "cell_type": "code",
      "source": [
        "# Print overall model accuracy\n",
        "print(f\"Final Model Accuracy: {accuracy:.4f}\")"
      ],
      "metadata": {
        "colab": {
          "base_uri": "https://localhost:8080/"
        },
        "id": "DxZZ9zAWH6cN",
        "outputId": "47d535f4-fe87-4cf3-e25d-e36b8f64a46a"
      },
      "execution_count": 10,
      "outputs": [
        {
          "output_type": "stream",
          "name": "stdout",
          "text": [
            "Final Model Accuracy: 0.9599\n"
          ]
        }
      ]
    }
  ]
}
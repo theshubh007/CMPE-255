{
  "nbformat": 4,
  "nbformat_minor": 0,
  "metadata": {
    "colab": {
      "provenance": []
    },
    "kernelspec": {
      "name": "python3",
      "display_name": "Python 3"
    },
    "language_info": {
      "name": "python"
    }
  },
  "cells": [
    {
      "cell_type": "markdown",
      "source": [
        "Dataset: https://www.kaggle.com/datasets/tawfikelmetwally/employee-dataset/data"
      ],
      "metadata": {
        "id": "sy-goReLITJP"
      }
    },
    {
      "cell_type": "markdown",
      "source": [
        "## 1. Business Understanding\n",
        "\n",
        "### Objective:\n",
        "Predict whether an employee will take leave (Leave or Not column as the target).\n",
        "\n",
        "### Context:\n",
        "This dataset contains information about employees in a company, including their educational backgrounds, work history, demographics, and employment-related factors. It has been anonymized to protect privacy while still providing valuable insights into the workforce.\n",
        "\n",
        "### Goal:\n",
        "Develop a binary classification model to predict employee leave status based on various features, such as education, joining year, city, payment tier, age, gender, bench status, and experience in the current domain.\n"
      ],
      "metadata": {
        "id": "jt-AgS0-4AnZ"
      }
    },
    {
      "cell_type": "markdown",
      "source": [
        "\n",
        "## 2. Data Understanding\n",
        "We'll start by loading the dataset, checking its structure, and understanding any potential issues (e.g., missing data)."
      ],
      "metadata": {
        "id": "Mln791fP4QlA"
      }
    },
    {
      "cell_type": "code",
      "execution_count": 33,
      "metadata": {
        "colab": {
          "base_uri": "https://localhost:8080/"
        },
        "id": "K5QEhIYL1zbY",
        "outputId": "70fbfe75-f6ea-44f1-d24c-7e8f62d63a3b"
      },
      "outputs": [
        {
          "output_type": "stream",
          "name": "stdout",
          "text": [
            "   Education  JoiningYear       City  PaymentTier  Age  Gender EverBenched  \\\n",
            "0  Bachelors         2017  Bangalore            3   34    Male          No   \n",
            "1  Bachelors         2013       Pune            1   28  Female          No   \n",
            "2  Bachelors         2014  New Delhi            3   38  Female          No   \n",
            "3    Masters         2016  Bangalore            3   27    Male          No   \n",
            "4    Masters         2017       Pune            3   24    Male         Yes   \n",
            "\n",
            "   ExperienceInCurrentDomain  LeaveOrNot  \n",
            "0                          0           0  \n",
            "1                          3           1  \n",
            "2                          2           0  \n",
            "3                          5           1  \n",
            "4                          2           1  \n",
            "<class 'pandas.core.frame.DataFrame'>\n",
            "RangeIndex: 4653 entries, 0 to 4652\n",
            "Data columns (total 9 columns):\n",
            " #   Column                     Non-Null Count  Dtype \n",
            "---  ------                     --------------  ----- \n",
            " 0   Education                  4653 non-null   object\n",
            " 1   JoiningYear                4653 non-null   int64 \n",
            " 2   City                       4653 non-null   object\n",
            " 3   PaymentTier                4653 non-null   int64 \n",
            " 4   Age                        4653 non-null   int64 \n",
            " 5   Gender                     4653 non-null   object\n",
            " 6   EverBenched                4653 non-null   object\n",
            " 7   ExperienceInCurrentDomain  4653 non-null   int64 \n",
            " 8   LeaveOrNot                 4653 non-null   int64 \n",
            "dtypes: int64(5), object(4)\n",
            "memory usage: 327.3+ KB\n",
            "None\n",
            "       JoiningYear  PaymentTier          Age  ExperienceInCurrentDomain  \\\n",
            "count  4653.000000  4653.000000  4653.000000                4653.000000   \n",
            "mean   2015.062970     2.698259    29.393295                   2.905652   \n",
            "std       1.863377     0.561435     4.826087                   1.558240   \n",
            "min    2012.000000     1.000000    22.000000                   0.000000   \n",
            "25%    2013.000000     3.000000    26.000000                   2.000000   \n",
            "50%    2015.000000     3.000000    28.000000                   3.000000   \n",
            "75%    2017.000000     3.000000    32.000000                   4.000000   \n",
            "max    2018.000000     3.000000    41.000000                   7.000000   \n",
            "\n",
            "        LeaveOrNot  \n",
            "count  4653.000000  \n",
            "mean      0.343864  \n",
            "std       0.475047  \n",
            "min       0.000000  \n",
            "25%       0.000000  \n",
            "50%       0.000000  \n",
            "75%       1.000000  \n",
            "max       1.000000  \n",
            "Education                    0\n",
            "JoiningYear                  0\n",
            "City                         0\n",
            "PaymentTier                  0\n",
            "Age                          0\n",
            "Gender                       0\n",
            "EverBenched                  0\n",
            "ExperienceInCurrentDomain    0\n",
            "LeaveOrNot                   0\n",
            "dtype: int64\n"
          ]
        }
      ],
      "source": [
        "# Import necessary libraries\n",
        "import pandas as pd\n",
        "import numpy as np\n",
        "import matplotlib.pyplot as plt\n",
        "import seaborn as sns\n",
        "# Suppress warnings\n",
        "import warnings\n",
        "warnings.filterwarnings('ignore')\n",
        "\n",
        "# Load the dataset\n",
        "file_path = '/content/Employee.csv'  # Modify this path based on where your dataset is\n",
        "data = pd.read_csv(file_path)\n",
        "\n",
        "# Display the first few rows of the dataset\n",
        "print(data.head())\n",
        "\n",
        "# Check the structure of the dataset\n",
        "print(data.info())\n",
        "\n",
        "# Get descriptive statistics of the dataset\n",
        "print(data.describe())\n",
        "\n",
        "# Check for missing values\n",
        "print(data.isnull().sum())\n",
        "\n"
      ]
    },
    {
      "cell_type": "markdown",
      "source": [
        "## 3. Data Preparation\n",
        "Clean the data and handle missing values, if any. Also, encode categorical variables for the model."
      ],
      "metadata": {
        "id": "lqUwtHl84FCS"
      }
    },
    {
      "cell_type": "code",
      "source": [
        "# Fill missing values (example: fill numeric columns with mean and categorical with mode)\n",
        "numeric_columns = data.select_dtypes(include=[np.number]).columns\n",
        "categorical_columns = data.select_dtypes(exclude=[np.number]).columns\n",
        "\n",
        "data[numeric_columns] = data[numeric_columns].fillna(data[numeric_columns].mean())\n",
        "data[categorical_columns] = data[categorical_columns].fillna(data[categorical_columns].mode().iloc[0])\n",
        "\n",
        "# Check if any missing values remain\n",
        "print(\"Missing values after filling:\")\n",
        "print(data.isnull().sum())\n",
        "\n",
        "# Convert categorical variables to numeric using one-hot encoding\n",
        "data = pd.get_dummies(data, drop_first=True)\n",
        "\n",
        "# Show the cleaned dataset\n",
        "print(data.head())\n",
        "\n",
        "# Split the dataset into features and target\n",
        "X = data.drop(columns=['LeaveOrNot'])\n",
        "y = data['LeaveOrNot']\n"
      ],
      "metadata": {
        "colab": {
          "base_uri": "https://localhost:8080/"
        },
        "id": "jB7uc58z2E25",
        "outputId": "8ee24ec8-116f-426f-cc2d-a83e9ebb8a60"
      },
      "execution_count": 36,
      "outputs": [
        {
          "output_type": "stream",
          "name": "stdout",
          "text": [
            "Missing values after filling:\n",
            "JoiningYear                  0\n",
            "PaymentTier                  0\n",
            "Age                          0\n",
            "ExperienceInCurrentDomain    0\n",
            "LeaveOrNot                   0\n",
            "Education_Masters            0\n",
            "Education_PHD                0\n",
            "City_New Delhi               0\n",
            "City_Pune                    0\n",
            "Gender_Male                  0\n",
            "EverBenched_Yes              0\n",
            "dtype: int64\n",
            "   JoiningYear  PaymentTier  Age  ExperienceInCurrentDomain  LeaveOrNot  \\\n",
            "0         2017            3   34                          0           0   \n",
            "1         2013            1   28                          3           1   \n",
            "2         2014            3   38                          2           0   \n",
            "3         2016            3   27                          5           1   \n",
            "4         2017            3   24                          2           1   \n",
            "\n",
            "   Education_Masters  Education_PHD  City_New Delhi  City_Pune  Gender_Male  \\\n",
            "0              False          False           False      False         True   \n",
            "1              False          False           False       True        False   \n",
            "2              False          False            True      False        False   \n",
            "3               True          False           False      False         True   \n",
            "4               True          False           False       True         True   \n",
            "\n",
            "   EverBenched_Yes  \n",
            "0            False  \n",
            "1            False  \n",
            "2            False  \n",
            "3            False  \n",
            "4             True  \n"
          ]
        }
      ]
    },
    {
      "cell_type": "markdown",
      "source": [
        "## 4. Modeling\n",
        "Now we'll build and train a binary classification model using Logistic Regression. You can experiment with other models later."
      ],
      "metadata": {
        "id": "ZoYjFkfW4WhR"
      }
    },
    {
      "cell_type": "code",
      "source": [
        "from sklearn.model_selection import train_test_split\n",
        "from sklearn.ensemble import RandomForestClassifier\n",
        "from sklearn.metrics import accuracy_score, classification_report, confusion_matrix\n",
        "\n",
        "# Split into training and testing sets\n",
        "X_train, X_test, y_train, y_test = train_test_split(X, y, test_size=0.2, random_state=42)\n",
        "\n",
        "# Initialize the model\n",
        "model = RandomForestClassifier(random_state=42)\n",
        "\n",
        "# Fit the model\n",
        "model.fit(X_train, y_train)\n",
        "\n",
        "# Make predictions\n",
        "y_pred = model.predict(X_test)\n"
      ],
      "metadata": {
        "id": "mz0Z0QGB3Hax"
      },
      "execution_count": 37,
      "outputs": []
    },
    {
      "cell_type": "markdown",
      "source": [
        "## 5. Evaluation\n",
        "Evaluate model performance using key metrics like accuracy, precision, recall, and F1-score."
      ],
      "metadata": {
        "id": "NXXsa9A24fLw"
      }
    },
    {
      "cell_type": "code",
      "source": [
        "# Evaluate model accuracy\n",
        "accuracy = accuracy_score(y_test, y_pred)\n",
        "print(f\"Accuracy: {accuracy:.4f}\")\n",
        "\n",
        "# Confusion matrix\n",
        "conf_matrix = confusion_matrix(y_test, y_pred)\n",
        "print(\"Confusion Matrix:\")\n",
        "print(conf_matrix)\n",
        "\n",
        "# Classification report (precision, recall, F1-score)\n",
        "class_report = classification_report(y_test, y_pred)\n",
        "print(\"Classification Report:\")\n",
        "print(class_report)\n"
      ],
      "metadata": {
        "colab": {
          "base_uri": "https://localhost:8080/"
        },
        "id": "UxPCDozw3JKY",
        "outputId": "c5ae4fbd-4142-4954-f766-5443042bcdbe"
      },
      "execution_count": 38,
      "outputs": [
        {
          "output_type": "stream",
          "name": "stdout",
          "text": [
            "Accuracy: 0.8518\n",
            "Confusion Matrix:\n",
            "[[558  52]\n",
            " [ 86 235]]\n",
            "Classification Report:\n",
            "              precision    recall  f1-score   support\n",
            "\n",
            "           0       0.87      0.91      0.89       610\n",
            "           1       0.82      0.73      0.77       321\n",
            "\n",
            "    accuracy                           0.85       931\n",
            "   macro avg       0.84      0.82      0.83       931\n",
            "weighted avg       0.85      0.85      0.85       931\n",
            "\n"
          ]
        }
      ]
    },
    {
      "cell_type": "markdown",
      "source": [
        "## 6. Deployment\n",
        "Once you are satisfied with your model's performance, you may:\n",
        "\n",
        "*   Save the model for future predictions.\n",
        "*   Deploy the model in a production environment (e.g., Flask or FastAPI web apps)."
      ],
      "metadata": {
        "id": "yEoVZRxS3Z5H"
      }
    },
    {
      "cell_type": "code",
      "source": [
        "# Deployment can involve saving the model and creating a service to use it\n",
        "import joblib\n",
        "\n",
        "# Save the model\n",
        "joblib.dump(model, 'employee_leave_model.pkl')\n",
        "\n",
        "# Load the model when needed\n",
        "loaded_model = joblib.load('employee_leave_model.pkl')\n",
        "\n"
      ],
      "metadata": {
        "id": "aLlbb2Ih3SFw"
      },
      "execution_count": 40,
      "outputs": []
    }
  ]
}